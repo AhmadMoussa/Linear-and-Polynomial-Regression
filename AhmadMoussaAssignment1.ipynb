{
 "cells": [
  {
   "cell_type": "markdown",
   "metadata": {},
   "source": [
    "Ahmad Moussa\n",
    "\n",
    "ID: 5119FG10\n",
    "\n",
    "Graphics Optimization assignment 1"
   ]
  },
  {
   "cell_type": "code",
   "execution_count": 41,
   "metadata": {},
   "outputs": [
    {
     "name": "stdout",
     "output_type": "stream",
     "text": [
      "Mean squared error:  1.0499999999999998\n"
     ]
    },
    {
     "data": {
      "image/png": "[encoded data removed]",
      "text/plain": [
       "<Figure size 432x288 with 1 Axes>"
      ]
     },
     "metadata": {
      "needs_background": "light"
     },
     "output_type": "display_data"
    }
   ],
   "source": [
    "%matplotlib inline\n",
    "\n",
    "import numpy as np\n",
    "import matplotlib.pyplot as plt\n",
    "\n",
    "A = np.array(((0,1),\n",
    "             (1,1),\n",
    "             (2,1),\n",
    "             (3,1)))\n",
    "\n",
    "b = np.array((1,2,0,3), ndmin = 2 ).T\n",
    "\n",
    "xstar = np.matmul( np.matmul( np.linalg.inv( np.matmul(A.T, A) ), A.T), b)\n",
    "\n",
    "plt.scatter(A.T[0], b)\n",
    "u = np.linspace(0,3,100)\n",
    "plt.plot(u, u * xstar[0] + xstar[1], 'b-')\n",
    "\n",
    "error = []\n",
    "for i in range(len(b)):\n",
    "    y_pred = A.T[0][i] * xstar[0] + xstar[1]\n",
    "    error.append(np.square(y_pred - b[i]))\n",
    "\n",
    "print(\"Mean squared error: \", np.sum(error)/len(b))"
   ]
  },
  {
   "cell_type": "markdown",
   "metadata": {},
   "source": [
    "### 1. Compute the hessian and make sure it is semi-definite positive:\n",
    "\n",
    "Since our function is of the form: \n",
    "\n",
    "\\begin{align} f(x) = \\frac{1}{2} ||Ax + b||^2\\end{align} \n",
    "\n",
    "And the hessian matrix is the matrix of second order partial-derivatives. We can rewrite our function such that we can make use of the chain rule:\n",
    "\n",
    "\\begin{align} f(x) = g(h(x))\\end{align} where \\begin{align}h(x) = Ax - b \\end{align} and \\begin{align} g(y) = \\frac{1}{2} ||y||^2\\end{align}. \n",
    "\n",
    "The partial derivatives are given by:\n",
    "\n",
    "\\begin{align} g'(y) = y^T, h'(x) = A \\end{align}\n",
    "\n",
    "Now using the chain rule, we have that:\n",
    "\n",
    "\\begin{align} f'(x) = g'(h(x))h'(x) = (Ax - b)^TA \\end{align}\n",
    "\n",
    "The gradient is a column vector, therefore:\n",
    "\n",
    "\\begin{align} ∇f(x) = f′(x)^T = A^T(Ax−b) \\end{align}\n",
    "\n",
    "Then finally, the hessian is the derivative of the previous:\n",
    "\n",
    "\\begin{align} Hf(x) = A^TA \\end{align}\n",
    "\n",
    "And now we can easily compute this in python.[This](https://math.stackexchange.com/questions/809169/hessian-matrix-as-derivative-of-gradient) helped me understand the calculation, and [this](https://math.stackexchange.com/questions/2864585/hessian-on-linear-least-squares-problem) provided several different ways to derive the hessian matrix from a least squares problem. Now we still need to make sure that the hessian is semi-positive definite. Let's do that step in python:"
   ]
  },
  {
   "cell_type": "code",
   "execution_count": 122,
   "metadata": {},
   "outputs": [
    {
     "name": "stdout",
     "output_type": "stream",
     "text": [
      "Hessian: \n",
      "[[14  6]\n",
      " [ 6  4]]\n",
      "Is the Hessian symmetric:  True\n",
      "Eigenvalues:  [16.81024968  1.18975032]\n",
      "Are the eigenvalues positive:  [ True  True]\n"
     ]
    }
   ],
   "source": [
    "import numpy as np\n",
    "\n",
    "A = np.array(((0,1),\n",
    "             (1,1),\n",
    "             (2,1),\n",
    "             (3,1)))\n",
    "Hessian = np.matmul(A.T, A) \n",
    "print(\"Hessian: \")\n",
    "print(Hessian)\n",
    "# Allclose checks if two arrays are elementwise equal\n",
    "# A matrice is symmetric if it is equal to it's transpose\n",
    "print(\"Is the Hessian symmetric: \", np.allclose(Hessian, Hessian.T))\n",
    "print(\"Eigenvalues: \", np.linalg.eigvals(Hessian))\n",
    "print(\"Are the eigenvalues positive: \", np.linalg.eigvals(Hessian) > 0)\n"
   ]
  },
  {
   "cell_type": "markdown",
   "metadata": {},
   "source": [
    "#### Figuring out curve fitting:\n",
    "\n",
    "Prior to this assignment I have never done any line or curve fitting. Hence I had no idea what to expect. Obviously, the point of the assignment was to avoid using numpy's polyfit function that does a perfectly good job at fitting polynomials of any order to a certain number of data points. I used the polyfit function as a cross-reference and as a measure of accuracy for my own code though.\n",
    "\n",
    "### 2. How would you fit the quadratic model:  \\begin{align} α_0 u^2 + α_1 u + β \\end{align}\n",
    "\n",
    "I assumed that I had to fit this quadratic function using a different method than the least squares method. I found that it could be fit using cramer's rule ([according to this article](https://neutrium.net/mathematics/least-squares-fitting-of-a-polynomial/)), by finding the determinants with respect to every column in our feature matrix and using these as coefficients for our curve.\n",
    "\n",
    "But there is one little problem, I discovered that this only works if the number of points to be fit is equal to the order of our polynomial + 1. We're trying to fit a quadratic model to 4 points, and obviously, 3 is not 4. I had some help debugging this using stackoverflow, as they pointed out that it would not work with the number of points that I have, here is a [link to my question](https://stackoverflow.com/questions/56181712/fitting-a-quadratic-function-in-python-without-numpy-polyfit)\n",
    "\n",
    "Hence to not throw this method out of the window completely, I tried replacing two of our points with one that lies between our points, and fit a curve to it with my code. The results can be seen in the graph below, where the blue line is my cramer fit, and the red dashed line is numpy's polyfit curve. We're actually not that far off, but I think there is abetter way to solve this."
   ]
  },
  {
   "cell_type": "code",
   "execution_count": 111,
   "metadata": {},
   "outputs": [
    {
     "data": {
      "image/png": "[encoded data removed]",
      "text/plain": [
       "<Figure size 432x288 with 1 Axes>"
      ]
     },
     "metadata": {
      "needs_background": "light"
     },
     "output_type": "display_data"
    }
   ],
   "source": [
    "import numpy as np\n",
    "import matplotlib.pyplot as plt\n",
    "\n",
    "# Our points \n",
    "A = np.array(((0,1),\n",
    "             (1,1),\n",
    "             (2,1),\n",
    "             (3,1)))\n",
    "A2 = np.array(((0,1),\n",
    "             (1.5,1),\n",
    "             (3,1)))\n",
    "xfeature = A2.T[0]\n",
    "squaredfeature = A2.T[0] ** 2\n",
    "ones = np.ones(3)\n",
    "# Let's create the matrix\n",
    "features = np.concatenate((np.vstack(ones), np.vstack(xfeature), np.vstack(squaredfeature)), axis = 1)\n",
    "\n",
    "\n",
    "b = np.array((1,2,0,3), ndmin=2 ).T\n",
    "b2 = np.array((1,1,3), ndmin=2 ).T\n",
    "b2 = b2.reshape(3)\n",
    "\n",
    "# Order of the polynomial we want to fit\n",
    "order = 2\n",
    "\n",
    "# Copy the matrix to do some operations with it\n",
    "featuresc = features.copy()\n",
    "\n",
    "# Let's find the determinants with respect to each of our columns\n",
    "m_det = np.linalg.det(features)\n",
    "determinants = []\n",
    "for i in range(order + 1):\n",
    "    featuresc.T[i] = b2 \n",
    "    determinants.append(np.linalg.det(featuresc))\n",
    "    featuresc = features.copy()\n",
    "\n",
    "determinants = determinants / m_det\n",
    "\n",
    "# Plotting it\n",
    "plt.scatter(A.T[0],b, c = 'red', marker = '^')\n",
    "plt.scatter(A2.T[0],b2, c = 'blue')\n",
    "u = np.linspace(0,3,100)\n",
    "plt.plot(u, u**2*determinants[2] + u*determinants[1] + determinants[0] )\n",
    "p2 = np.polyfit(A.T[0],b,2)\n",
    "plt.plot(u, np.polyval(p2,u), 'r--')\n",
    "plt.show()"
   ]
  },
  {
   "cell_type": "markdown",
   "metadata": {},
   "source": [
    "#### Let's go back to using the least squares method:\n",
    "\n",
    "It turned out to be a little easier than I thought. [In my stackoverflow question](https://stackoverflow.com/questions/56181712/fitting-a-quadratic-function-in-python-without-numpy-polyfit), I was told that it can be solved using least squares, as oppsed to my assumption. It simply boils down to adding a quadratic term to the feature matrix and solve it analytically, using the same equation that was provided in the example:\n",
    "\n",
    " \\begin{align} (X^T X)^{-1} X^Ty\\end{align}\n",
    " \n",
    " And this worked very well, as it gives the same output as numpy's polyfit function. See below, the blue dotted curve is my fit, and in dashed red the polyfit curve."
   ]
  },
  {
   "cell_type": "code",
   "execution_count": 43,
   "metadata": {},
   "outputs": [
    {
     "data": {
      "image/png": "[encoded data removed]",
      "text/plain": [
       "<Figure size 432x288 with 1 Axes>"
      ]
     },
     "metadata": {
      "needs_background": "light"
     },
     "output_type": "display_data"
    },
    {
     "name": "stdout",
     "output_type": "stream",
     "text": [
      "Mean squared error: 0.8\n"
     ]
    }
   ],
   "source": [
    "# Therefore, we need a better way to fit our quadratic function\n",
    "# that works for more than three points\n",
    "import numpy as np\n",
    "import matplotlib.pyplot as plt\n",
    "\n",
    "# Our points \n",
    "A = np.array(((0,1),\n",
    "             (1,1),\n",
    "             (2,1),\n",
    "             (3,1)))\n",
    "xfeature = A.T[0]\n",
    "squaredfeature = A.T[0] ** 2\n",
    "#squaredfeature = A.T[1]\n",
    "ones = np.ones(4)\n",
    "\n",
    "b = np.array((1,2,0,3), ndmin=2 ).T\n",
    "b = b.reshape(4)\n",
    "\n",
    "\n",
    "#Order of our polynomial\n",
    "order = 2\n",
    "\n",
    "# Let's create the matrix\n",
    "features = np.concatenate((np.vstack(ones), np.vstack(xfeature), np.vstack(squaredfeature)), axis = 1)\n",
    "xstar = np.matmul( np.matmul( np.linalg.inv( np.matmul(features.T, features) ), features.T), b)\n",
    "\n",
    "plt.scatter(A.T[0],b, c = 'red')\n",
    "u = np.linspace(0,3,20)\n",
    "plt.plot(u, u**2*xstar[2] + u*xstar[1] + xstar[0], 'b.')\n",
    "p2 = np.polyfit(A.T[0],b,2)\n",
    "plt.plot(u, np.polyval(p2,u), 'r--')\n",
    "plt.show()\n",
    "\n",
    "\n",
    "error = []\n",
    "for i in range(len(b)):\n",
    "    y_pred = (A.T[0][i]**2) * xstar[2] + A.T[0][i] * xstar[1] + xstar[0]\n",
    "    error.append(np.square(y_pred - b[i]))\n",
    "\n",
    "print(\"Mean squared error:\",np.sum(error)/len(b))"
   ]
  },
  {
   "cell_type": "markdown",
   "metadata": {},
   "source": [
    "#### Different method:\n",
    "Well, I still didn't feel satisfied because I wanted to solve it in a different way. I wanted to try using gradient descent, as I have never actually implemented it myself. I also had some trouble implementing it, and this [stackoverflow question](https://stackoverflow.com/questions/56205574/fitting-a-line-with-gradient-descent) I opened, summarizes what went wrong and how I solved it, I mainly had problems calculating the derivatives.See in the graph below, we get a line similar to our initial example:"
   ]
  },
  {
   "cell_type": "code",
   "execution_count": 109,
   "metadata": {},
   "outputs": [
    {
     "data": {
      "image/png": "[encoded data removed]",
      "text/plain": [
       "<Figure size 432x288 with 1 Axes>"
      ]
     },
     "metadata": {
      "needs_background": "light"
     },
     "output_type": "display_data"
    }
   ],
   "source": [
    "# We could also solve it using gradient descent\n",
    "# This is gradient descent fits a line to our data using the partial derivatives\n",
    "import numpy as np\n",
    "import matplotlib.pyplot as plt\n",
    "\n",
    "# Our loss function is going to be the mean squared error\n",
    "def mean_squared_error(n, A, b, alpha,beta):\n",
    "    e = 0\n",
    "    for i in range(n):\n",
    "        e += ((b[i] - (alpha * A[i] + beta** 2)))   \n",
    "    #print(\"mse:\",e/n)\n",
    "    return e/n\n",
    "\n",
    "# derivative with respect to alpha\n",
    "def der_wrt_alpha(n,A,b,alpha,beta):\n",
    "    d = 0\n",
    "    for i in range(n):\n",
    "        # d += (2 * (b[i] - (m*A[i] + c)) * (-A[i]))\n",
    "        d += (A[i] * (b[i] - (alpha*A[i] + beta)))\n",
    "    #print(\"D_alpha\",-2 * d/n)\n",
    "    return (-2 * d/n)\n",
    "  \n",
    "#derivative with respect to beta\n",
    "def der_wrt_beta(n,A,b,alpha,beta):\n",
    "    d = 0\n",
    "    for i in range(n):\n",
    "        d += (2 * (-1) * (b[i] - (alpha*A[i] + beta)))\n",
    "    #print(\"D_beta\",d/n)\n",
    "    return d/n\n",
    "\n",
    "def update(n,A,b,alpha,beta, descent_rate):\n",
    "    return (alpha - (descent_rate * der_wrt_alpha(n,A,b,alpha,beta))),(beta - (descent_rate * der_wrt_beta(n,A,b,alpha,beta)))\n",
    "    \n",
    "A = np.array(((0,1),\n",
    "             (1,1),\n",
    "             (2,1),\n",
    "             (3,1)))\n",
    "x = A.T[0]\n",
    "b = np.array((1,2,0,3), ndmin=2 ).T\n",
    "y = b.reshape(4)\n",
    "\n",
    "def descent(x,y):\n",
    "    alpha = 0\n",
    "    beta = 0\n",
    "    \n",
    "    descent_rate = 0.1\n",
    "    iterations = 1000\n",
    "    \n",
    "    n = len(x)\n",
    "    plt.scatter(x, y)\n",
    "    u = np.linspace(0,3,100)\n",
    "    prediction = 0\n",
    "    for itr in range(iterations):\n",
    "        prediction = prediction + alpha * x + beta\n",
    "        alpha, beta = update(n,x,y,alpha,beta,descent_rate)\n",
    "        loss = mean_squared_error(n, A, b, alpha, beta)\n",
    "        plt.scatter(x, y)\n",
    "        \n",
    "        \n",
    "    plt.plot(u, u * alpha + beta, '-') \n",
    "    \n",
    "descent(x,y)"
   ]
  },
  {
   "cell_type": "markdown",
   "metadata": {},
   "source": [
    "#### Extending Gradient descent to polynomials:\n",
    "Here I generalized it for fitting polynomials. [This article](https://towardsdatascience.com/implementation-of-uni-variate-linear-regression-in-python-using-gradient-descent-optimization-from-3491a13ca2b0) helped me a little bit understanding the math behind it and how weights/coefficients are updated on every iteration. I found that It was really important to experiment with the number of iterations and the step size to get good results."
   ]
  },
  {
   "cell_type": "code",
   "execution_count": 218,
   "metadata": {},
   "outputs": [
    {
     "data": {
      "image/png": "[encoded data removed]",
      "text/plain": [
       "<Figure size 432x288 with 1 Axes>"
      ]
     },
     "metadata": {
      "needs_background": "light"
     },
     "output_type": "display_data"
    }
   ],
   "source": [
    "import numpy as np\n",
    "import matplotlib.pyplot as plt\n",
    "\n",
    "def estimate(weights, x, order):\n",
    "    est = 0\n",
    "    for i in range(order+1):\n",
    "        est += weights[i] * x ** i\n",
    "    return est\n",
    "\n",
    "def cost_function(x, y, weights, m):\n",
    "    cost = 0\n",
    "    for i in range(m-1):\n",
    "        cost += ((y - (weights[i] * x ** i)) ** 2)\n",
    "    return ((1/(2*m)) * np.sum(cost ** 2))\n",
    "\n",
    "\n",
    "from IPython.display import clear_output\n",
    "def live_plot(weights):  \n",
    "    clear_output(wait = True)\n",
    "    plt.scatter(x,y)\n",
    "    u = np.linspace(0,3,100)\n",
    "    plt.plot(u, (u ** 2) * weights[2] + u * weights[1] + weights[0], 'r-')\n",
    "    plt.show()\n",
    "\n",
    "def descent(A, b, iterations, descent_rate, order):\n",
    "    x = A.T[0]\n",
    "    y = b.reshape(4)\n",
    "\n",
    "    # features\n",
    "    ones = np.vstack(np.ones(len(A)))\n",
    "    x = np.vstack(A.T[0])\n",
    "    x2 = np.vstack(A.T[0] ** 2)\n",
    "\n",
    "    # Our feature matrix\n",
    "    features = np.concatenate((ones,x,x2), axis = 1).T\n",
    "    # Initialize our coefficients to zero\n",
    "    weights = np.zeros(order + 1)\n",
    "    m = len(y)\n",
    "\n",
    "    # gradient descent\n",
    "\n",
    "    for i in range(iterations):\n",
    "        est = estimate(weights, x, order).T\n",
    "        difference = est - y\n",
    "        weights = weights + (-descent_rate * (1/m) * np.matmul(difference, features.T)[0])\n",
    "        cost = cost_function(x, y, weights, m)\n",
    "        # this plots the curve every 100 iterations, as it converges towards a good fit\n",
    "        if(i % 100 == 0):\n",
    "            live_plot(weights)\n",
    "            pass\n",
    "          \n",
    "    live_plot(weights)\n",
    "    \n",
    "A = np.array(((0,1),\n",
    "             (1,1),\n",
    "             (2,1),\n",
    "             (3,1)))\n",
    "\n",
    "b = np.array((1,2,0,3), ndmin = 2 ).T\n",
    "\n",
    "# These parameters didn't matter too much for fiiting a quadratic function, but in the next block where\n",
    "# we're plotting a cubic function, configuring number of iterations and the rate of descent made a big\n",
    "# impact on the shape of our curve and the time it took to finally converge\n",
    "iterations = 4000\n",
    "descent_rate = 0.05\n",
    "order = 2\n",
    "descent(A, b, iterations, descent_rate, order)"
   ]
  },
  {
   "cell_type": "markdown",
   "metadata": {},
   "source": [
    "#### Experimenting with number of iterations and step size for gradient descent:\n",
    "For a polynomial of a higher degree, manually adjusting these values, I found that they really did affect the shape of our curve. The numbers below are the best configuration that I found, to a get a good fit. If we set the step size any higher we overshoot, if we set it lower, it takes a lot more iterations to converge. If we reduce the iterations we don't get a good fit, if we increase it more, there will be no additional benefit because it converges at some point. Hit run while looking at the cell output below, and it should show the curve gradually converging:"
   ]
  },
  {
   "cell_type": "code",
   "execution_count": 186,
   "metadata": {},
   "outputs": [
    {
     "data": {
      "image/png": "[encoded data removed]",
      "text/plain": [
       "<Figure size 432x288 with 1 Axes>"
      ]
     },
     "metadata": {
      "needs_background": "light"
     },
     "output_type": "display_data"
    }
   ],
   "source": [
    "import numpy as np\n",
    "import matplotlib.pyplot as plt\n",
    "\n",
    "def estimate(weights, x, order):\n",
    "    est = 0\n",
    "    for i in range(order+1):\n",
    "        est += weights[i] * x ** i\n",
    "    return est\n",
    "\n",
    "def cost_function(x, y, weights, m):\n",
    "    cost = 0\n",
    "    for i in range(m-1):\n",
    "        cost += ((y - (weights[i] * x ** i)) ** 2)\n",
    "    return ((1/(2*m)) * np.sum(cost ** 2))\n",
    "\n",
    "\n",
    "from IPython.display import clear_output\n",
    "def live_plot(weights, p3):  \n",
    "    clear_output(wait = True)\n",
    "    plt.scatter(x,y)\n",
    "    u = np.linspace(0,3,100)\n",
    "    plt.plot(u, (u ** 3) * weights[3] + (u ** 2) * weights[2] + u * weights[1] + weights[0], '-')\n",
    "    plt.plot(u, np.polyval(p3,u), 'r--')\n",
    "    plt.show()\n",
    "\n",
    "def descent(A, b, iterations, descent_rate, order):\n",
    "    x = A.T[0]\n",
    "    y = b.reshape(4)\n",
    "\n",
    "    # features\n",
    "    ones = np.vstack(np.ones(len(A)))\n",
    "    x = np.vstack(A.T[0])\n",
    "    x2 = np.vstack(A.T[0] ** 2)\n",
    "    x3 = np.vstack(A.T[0] ** 3)\n",
    "\n",
    "    # Our feature matrix\n",
    "    features = np.concatenate((ones,x,x2,x3), axis = 1).T\n",
    "    # Initialize our coefficients to zero\n",
    "    weights = np.zeros(order + 1)\n",
    "    m = len(y)\n",
    "\n",
    "    # numpy fit for reference\n",
    "    p3 = np.polyfit(A.T[0],b,3)\n",
    "    # gradient descent\n",
    "    for i in range(iterations):\n",
    "        est = estimate(weights, x, order).T\n",
    "        difference = est - y\n",
    "        weights = weights + (-descent_rate * (1/m) * np.matmul(difference, features.T)[0])\n",
    "        cost = cost_function(x, y, weights, m)\n",
    "        # this plots the curve every 100 iterations, as it converges towards a good fit\n",
    "        if(i % 100 == 0):\n",
    "            live_plot(weights, p3)\n",
    "            pass\n",
    "        \n",
    "    live_plot(weights, p3)\n",
    "    \n",
    "A = np.array(((0,1),\n",
    "             (1,1),\n",
    "             (2,1),\n",
    "             (3,1)))\n",
    "\n",
    "b = np.array((1,2,0,3), ndmin = 2 ).T\n",
    "\n",
    "iterations = 60000\n",
    "descent_rate = 0.008\n",
    "order = 3\n",
    "descent(A, b, iterations, descent_rate, order)\n"
   ]
  },
  {
   "cell_type": "markdown",
   "metadata": {},
   "source": [
    "### 3. Print the error for both models. Which model performs better?\n",
    "As expected, the quadratic fit has a lower error. The curve is trying harder to be as close as possible to the data points. Below are the errors for both functions (they can also be seen in their respective cells above, underneath their graphs):\n",
    "\n",
    "- __Linear Fit Error: 1.049__\n",
    "\n",
    "- __Quadratic Fit Error: 0.8__\n",
    "\n",
    "Hence obviously, the quadratic fit has a smaller error than the linear fit."
   ]
  },
  {
   "cell_type": "markdown",
   "metadata": {},
   "source": [
    "### 4. Add a cubic term. How does the error improve?\n",
    "From the shape of the curve, I can already tell that the error is very small. Code:"
   ]
  },
  {
   "cell_type": "code",
   "execution_count": 91,
   "metadata": {},
   "outputs": [
    {
     "data": {
      "image/png": "[encoded data removed]",
      "text/plain": [
       "<Figure size 432x288 with 1 Axes>"
      ]
     },
     "metadata": {
      "needs_background": "light"
     },
     "output_type": "display_data"
    },
    {
     "name": "stdout",
     "output_type": "stream",
     "text": [
      "Mean squared error: 2.344908762292088e-26\n",
      "Rounded Mean Squared Error: 0.0\n"
     ]
    }
   ],
   "source": [
    "import numpy as np\n",
    "import matplotlib.pyplot as plt\n",
    "\n",
    "A = np.array(((0,1),\n",
    "             (1,1),\n",
    "             (2,1),\n",
    "             (3,1)))\n",
    "xfeature = A.T[0]\n",
    "squaredfeature = A.T[0] ** 2\n",
    "cubedfeature = A.T[0] ** 3\n",
    "ones = np.ones(4)\n",
    "\n",
    "b = np.array((1,2,0,3), ndmin=2 ).T\n",
    "b = b.reshape(4)\n",
    "\n",
    "order = 3\n",
    "\n",
    "features = np.concatenate((np.vstack(ones), np.vstack(xfeature), np.vstack(squaredfeature), np.vstack(cubedfeature)), axis = 1)\n",
    "xstar = np.matmul( np.matmul( np.linalg.inv( np.matmul(features.T, features) ), features.T), b)\n",
    "\n",
    "plt.scatter(A.T[0],b, c = 'red')\n",
    "u = np.linspace(0,3,100)\n",
    "plt.plot(u, u**3*xstar[3] + u**2*xstar[2] + u*xstar[1] + xstar[0], 'b-')\n",
    "plt.show()\n",
    "\n",
    "error = []\n",
    "\n",
    "for i in range(len(b)):\n",
    "    y_pred = (A.T[0][i] ** 3) * xstar[3] + (A.T[0][i] ** 2) * xstar[2] + A.T[0][i]*xstar[1] + xstar[0]\n",
    "    error.append(np.square(y_pred - b[i]))\n",
    "\n",
    "print(\"Mean squared error:\", np.sum(error)/len(b))\n",
    "print(\"Rounded Mean Squared Error:\", round(np.sum(error)/len(b)))"
   ]
  },
  {
   "cell_type": "markdown",
   "metadata": {},
   "source": [
    "The error is very small, and is technically negligible. Adding a cubic term to our function gave us a perfect fit for our data points."
   ]
  },
  {
   "cell_type": "markdown",
   "metadata": {},
   "source": [
    "### 5. Add a quartic term. What happened? Why?\n",
    "\n",
    "Well the analytical solution did not work out well for me."
   ]
  },
  {
   "cell_type": "code",
   "execution_count": 110,
   "metadata": {},
   "outputs": [
    {
     "data": {
      "image/png": "[encoded data removed]",
      "text/plain": [
       "<Figure size 432x288 with 1 Axes>"
      ]
     },
     "metadata": {
      "needs_background": "light"
     },
     "output_type": "display_data"
    },
    {
     "name": "stdout",
     "output_type": "stream",
     "text": [
      "Mean squared error: 536.2012157858026\n",
      "Rounded Mean Squared Error: 536.0\n"
     ]
    }
   ],
   "source": [
    "## import numpy as np\n",
    "import matplotlib.pyplot as plt\n",
    "\n",
    "A = np.array(((0,1),\n",
    "             (1,1),\n",
    "             (2,1),\n",
    "             (3,1)))\n",
    "xfeature = A.T[0]\n",
    "squaredfeature = A.T[0] ** 2\n",
    "cubedfeature = A.T[0] ** 3\n",
    "quart = A.T[0] ** 4\n",
    "ones = np.ones(4)\n",
    "\n",
    "b = np.array((1,2,0,3), ndmin=2 ).T\n",
    "b = b.reshape(4)\n",
    "\n",
    "order = 3\n",
    "\n",
    "features = np.concatenate((np.vstack(ones), np.vstack(xfeature), np.vstack(squaredfeature), np.vstack(cubedfeature), np.vstack(quart)), axis = 1)\n",
    "xstar = np.matmul( np.matmul( np.linalg.inv( np.matmul(features.T, features) ), features.T), b)\n",
    "\n",
    "plt.scatter(A.T[0],b, c = 'red')\n",
    "u = np.linspace(0,3,10000)\n",
    "plt.plot(u, (u ** 4) * xstar[4] + (u ** 3) * xstar[3] + (u ** 2) * xstar[2] + u * xstar[1] + xstar[0], 'b-')\n",
    "plt.show()\n",
    "\n",
    "for i in range(len(b)):\n",
    "    y_pred = (A.T[0][i] ** 4) * xstar[4] + (A.T[0][i] ** 3) * xstar[3] + (A.T[0][i] ** 2) * xstar[2] + A.T[0][i]*xstar[1] + xstar[0]\n",
    "    error.append(np.square(y_pred - b[i]))\n",
    "\n",
    "print(\"Mean squared error:\", np.sum(error)/len(b))\n",
    "print(\"Rounded Mean Squared Error:\", round(np.sum(error)/len(b)))\n"
   ]
  },
  {
   "cell_type": "markdown",
   "metadata": {},
   "source": [
    "Honestly, I don't know what is going on here, it's not fitting the data well. One possible explanation could be that we have less points that our degree + 1 and it is not able to find a good fit for the data. The gradient descent code I wrote is actually fitting it though:"
   ]
  },
  {
   "cell_type": "code",
   "execution_count": 108,
   "metadata": {},
   "outputs": [
    {
     "data": {
      "image/png": "[encoded data removed]",
      "text/plain": [
       "<Figure size 432x288 with 1 Axes>"
      ]
     },
     "metadata": {
      "needs_background": "light"
     },
     "output_type": "display_data"
    }
   ],
   "source": [
    "# import numpy as np\n",
    "import matplotlib.pyplot as plt\n",
    "\n",
    "def estimate(weights, x, order):\n",
    "    est = 0\n",
    "    for i in range(order+1):\n",
    "        est += weights[i] * x ** i\n",
    "    return est\n",
    "\n",
    "def cost_function(x, y, weights, m):\n",
    "    cost = 0\n",
    "    for i in range(m-1):\n",
    "        cost += ((y - (weights[i] * x ** i)) ** 2)\n",
    "    return ((1/(2*m)) * np.sum(cost ** 2))\n",
    "\n",
    "\n",
    "from IPython.display import clear_output\n",
    "def live_plot(x,y,weights, p3):  \n",
    "    clear_output(wait = True)\n",
    "    plt.scatter(x,y)\n",
    "    u = np.linspace(0,3,100)\n",
    "    plt.plot(u, (u ** 4) * weights[4] + (u ** 3) * weights[3] + (u ** 2) * weights[2] + u * weights[1] + weights[0], '-')\n",
    "    plt.plot(u, np.polyval(p3,u), 'r--')\n",
    "    plt.show()\n",
    "\n",
    "def descent(A, b, iterations, descent_rate, order):\n",
    "    x = A.T[0]\n",
    "    y = b.reshape(4)\n",
    "\n",
    "    # features\n",
    "    ones = np.vstack(np.ones(len(A)))\n",
    "    x = np.vstack(A.T[0])\n",
    "    x2 = np.vstack(A.T[0] ** 2)\n",
    "    x3 = np.vstack(A.T[0] ** 3)\n",
    "    x4 = np.vstack(A.T[0] ** 4)\n",
    "\n",
    "    # Our feature matrix\n",
    "    features = np.concatenate((ones,x,x2,x3,x4), axis = 1).T\n",
    "    # Initialize our coefficients to zero\n",
    "    weights = np.zeros(order + 1)\n",
    "    m = len(y)\n",
    "\n",
    "    # numpy fit for reference\n",
    "    p3 = np.polyfit(A.T[0],b,3)\n",
    "    # gradient descent\n",
    "    for i in range(iterations):\n",
    "        est = estimate(weights, x, order).T\n",
    "        difference = est - y\n",
    "        weights = weights + (-descent_rate * (1/m) * np.matmul(difference, features.T)[0])\n",
    "        cost = cost_function(x, y, weights, m)\n",
    "        # this plots the curve every 100 iterations, as it converges towards a good fit\n",
    "        if(i % 1000 == 0):\n",
    "            live_plot(x,y,weights, p3)\n",
    "            pass\n",
    "        \n",
    "    live_plot(x,y,weights, p3)\n",
    "    \n",
    "A = np.array(((0,1),\n",
    "             (1,1),\n",
    "             (2,1),\n",
    "             (3,1)))\n",
    "\n",
    "b = np.array((1,2,0,3), ndmin = 2 ).T\n",
    "\n",
    "iterations = 100000\n",
    "descent_rate = 0.001\n",
    "order = 4\n",
    "descent(A, b, iterations, descent_rate, order)\n"
   ]
  },
  {
   "cell_type": "markdown",
   "metadata": {},
   "source": [
    "We can see that, compared to the cubic function, we are still getting a perfect fit that is maybe a little more skewed and angular than the cubic fit. I would assume the error is still very low and negligible after observing this graph."
   ]
  }
 ],
 "metadata": {
  "kernelspec": {
   "display_name": "Python 3",
   "language": "python",
   "name": "python3"
  },
  "language_info": {
   "codemirror_mode": {
    "name": "ipython",
    "version": 3
   },
   "file_extension": ".py",
   "mimetype": "text/x-python",
   "name": "python",
   "nbconvert_exporter": "python",
   "pygments_lexer": "ipython3",
   "version": "3.7.3"
  }
 },
 "nbformat": 4,
 "nbformat_minor": 2
}
